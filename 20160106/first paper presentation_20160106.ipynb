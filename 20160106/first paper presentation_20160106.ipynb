{
 "cells": [
  {
   "cell_type": "markdown",
   "metadata": {},
   "source": [
    "# Paper title\n",
    "\n",
    "- Dynamic Properties of Human Brain Structure Learning-Related Changes in Cortical Areas and Associated Fiber Connections\n"
   ]
  },
  {
   "cell_type": "markdown",
   "metadata": {},
   "source": [
    "# Paper source\n",
    "\n",
    "- Taubert, M., Draganski, B., Anwander, A., Müller, K., Horstmann, A., Villringer, A., & Ragert, P. (2010). Dynamic properties of human brain structure: learning-related changes in cortical areas and associated fiber connections. The Journal of Neuroscience, 30(35), 11670-11677."
   ]
  },
  {
   "cell_type": "markdown",
   "metadata": {},
   "source": [
    "# Background\n",
    "\n",
    "(1) 최근 '결정적 시기'에 의해 발달(+뇌 배선)이 결정된다는 입장과 달리, 성인 뇌가소성에 대한 증거들이 발견됨\n",
    "\n",
    "- 물론 이러한 '가소성'에는 range가 있어서, 가소성이 모든 것을 해결할 수 있는 만능은 아님\n",
    "\n",
    " - 가소성 예시: http://www.etnews.com/20151214000054?SNS=00002 \n",
    "\n",
    "(2) 인간 뇌의 가소성 연구에서는, White/Gray matter 의 변화가 관찰\n",
    "- 참고\n",
    " - Zatorre, R. J., Fields, R. D., & Johansen-Berg, H. (2012). Plasticity in gray and white: neuroimaging changes in brain structure during learning. Nature neuroscience, 15(4), 528-536.\n",
    "\n",
    "(3) 설치류(rodent)의 경우 학습으로 유발되는 변화가 단기간(several week/month)인데 반해, 인간의 경우 보다 장기적(several month/year)"
   ]
  },
  {
   "cell_type": "markdown",
   "metadata": {},
   "source": [
    "# Main concept\n",
    "\n",
    "(1) Gray matter\n",
    "-  https://en.wikipedia.org/wiki/Grey_matter\n",
    "\n",
    "(2) White matter\n",
    "-  https://en.wikipedia.org/wiki/White_matter\n",
    "\n",
    "(3) FA(fractional anisotropy, 분획 이방성)\n",
    "-  https://en.wikipedia.org/wiki/Fractional_anisotropy\n",
    " - 백색질조직내 물 확산도의 지표 "
   ]
  },
  {
   "cell_type": "markdown",
   "metadata": {},
   "source": [
    "# 1. Brief review\n",
    "\n",
    "\n",
    "## Hypothesis\n",
    "(1)  a short period of practice in a complex motor task induces significant changes in brain structure and \n",
    "\n",
    "(2)  long-term motor skill learning is associated with dynamic patterns of structural alterations in functionally relevant brain areas and corresponding anatomical projections in correlation with improvements in task performance.\n",
    "\n",
    "## Participant\n",
    "\n",
    "-  Twenty-eight healthy, right-handed (mean age, 25.9 years; SD, 2.8 years; 14 females)\n",
    "\n",
    "## Materials and Methods\n",
    "\n",
    "-  Whole-body dynamic balancing task(Whole DBT)\n",
    "-  electromyographical (EMG) activity\n",
    "-  MRI Scanning/DTI\n",
    "\n",
    "\n",
    "## Results\n",
    "\n",
    "-   Gray matter volume increase in the prefrontal cortex correlated positively with subject’s performance improvements during a 6 week learning period. \n",
    "\n",
    "-   we found that microstructural changes of fractional anisotropy in corresponding white matter regions followed the same temporal dynamic in relation to task performance\n",
    "\n",
    "## Conclusion\n",
    "\n",
    "-  The results make clear how marginal alterations in our ever changing environment affect adult brain structure and elucidate the interrelated reorganization in cortical areas and associated fiber connections in correlation with improvements in task performance."
   ]
  },
  {
   "cell_type": "markdown",
   "metadata": {},
   "source": [
    "# 2. Experimental overview\n",
    "\n",
    "![](fig 1a.png)\n",
    "![](fig 1b.png)\n",
    "\n",
    "\n",
    "(1) 실험군(experimental group) 14명은 whole-body dynamic balancing task (DBT)을 6주 연속으로 하루를 훈련일(training day, TD)로 훈련받았으며, TD의 오차는 1일 이내\n",
    "- DBT's maximum deviation of 26°\n",
    "- TD 내에서, 피험자들은 DBT를 45분 동안 훈련받고, task performance 동안 electromyographical (EMG)를 측정\n",
    " -  task performance는 훈련 30초 후 platform에 발을 올리고 수평을 유지하는 것(measured time = second)\n",
    " -  soleus muscle(넙치근, 종아리 근육) 활동 패턴을 기록\n",
    " \n",
    "(2) MR data는 base(s), before learning(s1), 2/4 weeks(s2, s3), completion learning(s4)에 측정 \n",
    "  - MR data는 TD1, TD3, TD5에 앞서 습득\n",
    "  \n",
    "(3) control group는 14명(age/gender matching)을 대상으로 동일한 절차(s1,pre/ s2, 2week 측정)  "
   ]
  },
  {
   "cell_type": "markdown",
   "metadata": {},
   "source": [
    "# 3-1. Behavior Result\n",
    "(1) Behavioral results\n",
    "![](fig 1c.png)\n",
    "\n",
    "- Improvements in motor performance during the time course of learning as well asmeanretention performance of 95% (in percentage of mean performance on TD6) after 3 months without training (filled squares, mean performance across subjects; error bars, SEM)\n",
    "\n",
    "(2) EMG activity results\n",
    "![](fig 1d.png)\n",
    "\n",
    "- higher EMG activity on the left (nondominant) as compared to the right (dominant) SM [left-right ratio maen = 1.23,  0.04 (mean, SEM)] at the beginning of the learning period (TD1).\n",
    "- Furthermore, we found a significant decrease in muscular imbalance between both muscles during the time course of learning\n",
    "\n",
    "\n"
   ]
  },
  {
   "cell_type": "markdown",
   "metadata": {},
   "source": [
    "# 3-2. Imaging results\n",
    "\n",
    "(1) Structural changes during learning (s1 to s2, s3, s4)\n",
    "\n",
    "![](fig 2.png)\n",
    "- Increase in GM volume and decrease in WM FA across the whole learning period (s1–s2, s3, s4). GM(yellow) andWM(cyan) changes in bilateral lateral prefrontal regions are shown in axial sections overlaid onMNIcolin27 image (top image) and individual (normalized) FAmap(bottom image).\n",
    "\n",
    "\n",
    "- significant increase GM volume\n",
    "  - left supplementary motor areas (SMA), left superior frontal gyrus (SFG), and left medial orbitofrontal cortex (OFC; orbital part of the medial frontal gyrus,)\n",
    " \n",
    "- significant decrease GM volume\n",
    " -  right putamen, right inferior orbitofrontal cortex (iOFC; orbital part of the inferior frontal gyrus), left inferior occipital gyrus, right middle temporal gyrus (MTG), and lobule VIII in cerebellum\n",
    " \n",
    " \n",
    "- Alse, identified significant FA decrease in bilateral prefrontal WM regions \n",
    "\n",
    "\n",
    "(2) Rapid structural changes during learning (s1 to s2)\n",
    "\n",
    "![](fig 3.png)\n",
    "\n",
    "- Rapid changes in GM volume and WM FA from s1–s2 (paired t test). Rendered brains indicate GM expansion (yellow) and FA decrease (cyan)\n",
    " - (A) Top image shows left side of the brain. Upper two coronal sections showGMexpansion in bilateral lateral prefrontal cortex. Middle coronal section shows FA decrease in left prefrontal WM. Bottom left section indicates GM expansion in bilateral supplementary motor areas.\n",
    "\n",
    " - (B) Positive linear correlation between GM expansion in left supplementary motor areas and individual adaptations in muscular imbalances across the whole learning period\n",
    "\n",
    "(3) Parametric correlation with improvements in motor performance\n",
    "\n",
    "![](fig 4.png)\n",
    "-  Parametric correlation between individual improvements in motor performance across the whole learning period (s1, s2, s3, and s4) and GM volume andWM, FA and MD.All images are shown at p< 0.05 (corrected)\n",
    "\n",
    "\n",
    "-  (A) Positive linear correlation between improvements in motor performance and GM expansion in left sOFC. GM changes are shown in axial section (red dotted circle). \n",
    "-  (B) Negative linear correlation between improvements in motor performance and FA changes in left prefrontal and right parietal WM regions (cyan). Right rendered brain represents right hemisphere. FA changes are shown in axial sections. \n",
    "-  (C) Negative linear correlation between improvements in motor performance and MD changes in bilateral anterior centrum semiovale, left brainstem and right internal capsule (cyan).\n",
    "\n",
    "(4) Temporal dynamics of GM and WM FA and MD changes during learning\n",
    "![](fig 5.png)\n",
    "\n",
    "-  (A) GM. Diagram shows percentage signal change (error bars indicate SEM) on s2, s3, and s4 relative to baseline (s1) in peak voxel in left OFC, SFG, and SMA. \n",
    "-  (B) WM. Diagram shows percentage signal change (error bars indicate SEM) in FA/MD during learning in peak voxel in WM regions adjoining left OFC and in left anterior centrum semiovale. Asterisks indicate significant changes in peak voxel intensity compared to baseline (s1) intensity at p< 0.05(paired t test)."
   ]
  },
  {
   "cell_type": "markdown",
   "metadata": {},
   "source": [
    "# My Future Question\n",
    "- *experience-dependent behavioral에 대해 공부할 것*\n",
    "- *White/Gray matter & FA에 대해 공부할 것*\n",
    "\n"
   ]
  },
  {
   "cell_type": "code",
   "execution_count": null,
   "metadata": {},
   "outputs": [],
   "source": [
    ""
   ]
  }
 ],
 "metadata": {
  "kernelspec": {
   "display_name": "Python 2",
   "language": "python",
   "name": "python2"
  },
  "language_info": {
   "codemirror_mode": {
    "name": "ipython",
    "version": 2.0
   },
   "file_extension": ".py",
   "mimetype": "text/x-python",
   "name": "python",
   "nbconvert_exporter": "python",
   "pygments_lexer": "ipython2",
   "version": "2.7.11"
  }
 },
 "nbformat": 4,
 "nbformat_minor": 0
}